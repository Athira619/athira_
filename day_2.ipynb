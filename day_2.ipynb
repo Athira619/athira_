{
  "nbformat": 4,
  "nbformat_minor": 0,
  "metadata": {
    "colab": {
      "name": "day 2.ipynb",
      "provenance": [],
      "collapsed_sections": []
    },
    "kernelspec": {
      "name": "python3",
      "display_name": "Python 3"
    },
    "language_info": {
      "name": "python"
    }
  },
  "cells": [
    {
      "cell_type": "code",
      "metadata": {
        "colab": {
          "base_uri": "https://localhost:8080/"
        },
        "id": "9eljo13TNr8O",
        "outputId": "7029843e-21d4-4279-c936-0ab59ff2b308"
      },
      "source": [
        "1. We are having 3 list like this\n",
        "\n",
        "Colors = [“Yellow”,”Green”,”White”,”Black”] Fruits=[“Apple”,”Papaya”,”Mango”,”Orange”] Animals=[“Tiger”,”Lion”,”Deer”,”Zebra”]\n",
        "\n",
        "i. Write a program that asks user to enter a Color/Fruit/Animal name and it should tell which category belongs to , like its is a fruit or color or Animal\n",
        "\n",
        "ii. Write a program that asks user to enter two cities and it tells you if they both are in same country or not. For example if I enter yellow and Black, it will print \"Both are colors\" but if I enter yellow and Tiger it should print \"They don't belong to same category\"\n",
        "\n",
        "(1) Colors = [\"Yellow\",\"Green\",\"White\",\"Black\"]\n",
        "Fruits=[\"Apple\",\"Papaya\",\"Mango\",\"Orange\"]\n",
        "Animals=[\"Tiger\",\"Lion\",\"Deer\",\"Zebra\"]\n",
        "input1=input().capitalize()\n",
        "if input1 in Colors:\n",
        "  print(\"COLOR\")\n",
        "elif input1 in Fruits:\n",
        "  print(\"FRUIT\")\n",
        "else:\n",
        "  print(\"ANIMAL\")"
      ],
      "execution_count": 1,
      "outputs": [
        {
          "output_type": "stream",
          "text": [
            "mango\n",
            "FRUIT\n"
          ],
          "name": "stdout"
        }
      ]
    },
    {
      "cell_type": "code",
      "metadata": {
        "colab": {
          "base_uri": "https://localhost:8080/"
        },
        "id": "FUpIGotuPR8E",
        "outputId": "8c808c01-b093-4d77-fda8-3c55696171ee"
      },
      "source": [
        "(2)catn=[\"Colors\",\"Fruits\",\"Animals\"]\n",
        "cat=[Colors,Fruits,Animals]\n",
        "f=False\n",
        "inp1=input().capitalize()\n",
        "inp2=input().capitalize()\n",
        "for i in range(3):\n",
        "  if inp1 in cat[i] and inp2 in cat[i]:\n",
        "    f=True\n",
        "    print(\"Both are\",catn[i])\n",
        "if not f:\n",
        "  print(\"They don't belong to same category\")o"
      ],
      "execution_count": 3,
      "outputs": [
        {
          "output_type": "stream",
          "text": [
            "mango\n",
            "orange\n",
            "Both are Fruits\n"
          ],
          "name": "stdout"
        }
      ]
    },
    {
      "cell_type": "code",
      "metadata": {
        "colab": {
          "base_uri": "https://localhost:8080/"
        },
        "id": "-ylVWyazP-6g",
        "outputId": "53aaad5b-c8b4-49c7-c034-d35fb51ab61f"
      },
      "source": [
        "2.Write a python program that can tell you if your grade score good or not . Normal Score range is 40 to 60.\n",
        "\n",
        "i. Ask user to enter his score.\n",
        "\n",
        "ii. If it is below 40 to 60 range then print that score is low\n",
        "\n",
        "iii. If it is above 60 then print that it is good otherwise print that it is normal\n",
        "score=int(input())\n",
        "if score < 40:\n",
        "  print(\"score is low\")\n",
        "elif score<60:\n",
        "  print(\"score is normal\")\n",
        "else:\n",
        "  print(\"score is good\")\n"
      ],
      "execution_count": 4,
      "outputs": [
        {
          "output_type": "stream",
          "text": [
            "55\n",
            "score is normal\n"
          ],
          "name": "stdout"
        }
      ]
    },
    {
      "cell_type": "code",
      "metadata": {
        "colab": {
          "base_uri": "https://localhost:8080/"
        },
        "id": "e22iGxRrQW3i",
        "outputId": "af0c7ab6-278c-4a53-c849-12023067d7ba"
      },
      "source": [
        "3. After appearing in exam 10 times you got this result,\n",
        "\n",
        "result = [\"Pass\",\"Fail\",\"Fail\",\"Pass\",\"Fail\",\"Pass\",\"Pass\",\"Fail\",\"Fail\",\"Fail\"]\n",
        "\n",
        "Using for loop figure out how many times you got Pass\n",
        "\n",
        "result = [\"Pass\",\"Fail\",\"Fail\",\"Pass\",\"Fail\",\"Pass\",\"Pass\",\"Fail\",\"Fail\",\"Fail\"]\n",
        "pass1 = 0\n",
        "for i in result:\n",
        "  if i ==\"Pass\":\n",
        "    pass1+=1\n",
        "print(pass1)"
      ],
      "execution_count": 5,
      "outputs": [
        {
          "output_type": "stream",
          "text": [
            "4\n"
          ],
          "name": "stdout"
        }
      ]
    },
    {
      "cell_type": "code",
      "metadata": {
        "colab": {
          "base_uri": "https://localhost:8080/"
        },
        "id": "3g6d267_QL79",
        "outputId": "0969bab9-0b71-44a4-ff27-5df055caed91"
      },
      "source": [
        "4. Write a program that prints following shape\n",
        "\n",
        "\n",
        "for i in range(1,6):\n",
        "  for i in range(i):\n",
        "    print(\"*\",end=\" \")\n",
        "  print(\"\\n\")\n",
        "for i in range(4,0,-1):\n",
        "  for i in range(i):\n",
        "    print(\"*\",end=\" \")\n",
        "  print(\"\\n\")\n"
      ],
      "execution_count": 6,
      "outputs": [
        {
          "output_type": "stream",
          "text": [
            "* \n",
            "\n",
            "* * \n",
            "\n",
            "* * * \n",
            "\n",
            "* * * * \n",
            "\n",
            "* * * * * \n",
            "\n",
            "* * * * \n",
            "\n",
            "* * * \n",
            "\n",
            "* * \n",
            "\n",
            "* \n",
            "\n"
          ],
          "name": "stdout"
        }
      ]
    },
    {
      "cell_type": "code",
      "metadata": {
        "colab": {
          "base_uri": "https://localhost:8080/"
        },
        "id": "PDzZ3PahQ-x1",
        "outputId": "7a281e1d-9622-4f02-f3c0-812459459d6a"
      },
      "source": [
        "5. Lets say you are running a 50 km race. Write a program that,\n",
        "\n",
        "Upon completing each 10 km asks you \"are you tired?\" If you reply \"yes\" then it should break and print \"you didn't finish the race\" If you reply \"no\" then it should continue and ask \"are you tired\" on every km If you finish all 50 km then it should print congratulations message\n",
        "\n",
        "for i in range(0,50,10):\n",
        "  if i%10 == 0 and i>0:\n",
        "    in1=input(\"Are you tired??  :  \")\n",
        "    if in1 ==\"yes\":\n",
        "      print(\"you didn't finish the race\")\n",
        "      break\n",
        "if i+10 == 50:\n",
        "  print(\"congratulations\")\n"
      ],
      "execution_count": 7,
      "outputs": [
        {
          "output_type": "stream",
          "text": [
            "Are you tired??  :  no\n",
            "Are you tired??  :  no\n",
            "Are you tired??  :  no\n",
            "Are you tired??  :  no\n",
            "congratulations\n"
          ],
          "name": "stdout"
        }
      ]
    },
    {
      "cell_type": "code",
      "metadata": {
        "colab": {
          "base_uri": "https://localhost:8080/"
        },
        "id": "qeAvf_KrRRda",
        "outputId": "b9758745-1a6f-4cfa-a3fe-e315509adc67"
      },
      "source": [
        "6. Write a Python program to find those numbers which are divisible by 7 and multiple of 5, between 1500 and 2700 (both included).\n",
        "\n",
        "\n",
        "\n",
        "for i in range(1500,2701):\n",
        "  if i%7==0 and i%5==0:\n",
        "    print(i,end = \" \")"
      ],
      "execution_count": 8,
      "outputs": [
        {
          "output_type": "stream",
          "text": [
            "1505 1540 1575 1610 1645 1680 1715 1750 1785 1820 1855 1890 1925 1960 1995 2030 2065 2100 2135 2170 2205 2240 2275 2310 2345 2380 2415 2450 2485 2520 2555 2590 2625 2660 2695 "
          ],
          "name": "stdout"
        }
      ]
    },
    {
      "cell_type": "code",
      "metadata": {
        "colab": {
          "base_uri": "https://localhost:8080/"
        },
        "id": "9t9-dDu8RheY",
        "outputId": "a205db3e-7674-4c40-88af-97f44e76a76b"
      },
      "source": [
        "7. Print square of all numbers between 10 to 20 except even numbers\n",
        "\n",
        "for i in range(11,21,2):\n",
        "  print(i**2,end=\" \")"
      ],
      "execution_count": 9,
      "outputs": [
        {
          "output_type": "stream",
          "text": [
            "121 169 225 289 361 "
          ],
          "name": "stdout"
        }
      ]
    },
    {
      "cell_type": "code",
      "metadata": {
        "colab": {
          "base_uri": "https://localhost:8080/"
        },
        "id": "eFlEfRZrRseg",
        "outputId": "f371d941-4a9e-4aae-ec7c-22eb565f1cc9"
      },
      "source": [
        "8. Your Marks for five Test(test1 to test5) looks like this,\n",
        "\n",
        "marks_list = [65, 75, 2100, 95, 83]\n",
        "\n",
        "Write a program that asks you to enter marks and program should tell you in which test that marks occurred. If marks is not found then it should print that as well.\n",
        "\n",
        "\n",
        "\n",
        "marks_list = [65, 75, 2100, 95, 83]\n",
        "mark=int(input())\n",
        "for idz,markz in enumerate(marks_list):\n",
        "  if mark not in marks_list:\n",
        "    print(\"mark not found\")\n",
        "    break\n",
        "  else:\n",
        "    if markz==mark:\n",
        "      print(idz+1)\n"
      ],
      "execution_count": 11,
      "outputs": [
        {
          "output_type": "stream",
          "text": [
            "2100\n",
            "3\n"
          ],
          "name": "stdout"
        }
      ]
    }
  ]
}